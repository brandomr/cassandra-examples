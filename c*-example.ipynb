{
 "cells": [
  {
   "cell_type": "markdown",
   "metadata": {},
   "source": [
    "# DS 201 C*\n",
    "See DataStax Academy course here: https://academy.datastax.com/resources/ds201-foundations-apache-cassandra"
   ]
  },
  {
   "cell_type": "code",
   "execution_count": 25,
   "metadata": {},
   "outputs": [
    {
     "name": "stdout",
     "output_type": "stream",
     "text": [
      "Requirement already satisfied: cassandra-driver in /opt/conda/lib/python3.6/site-packages\n",
      "Requirement already satisfied: six>=1.9 in /opt/conda/lib/python3.6/site-packages (from cassandra-driver)\n",
      "\u001b[33mYou are using pip version 9.0.1, however version 9.0.3 is available.\n",
      "You should consider upgrading via the 'pip install --upgrade pip' command.\u001b[0m\n",
      "Requirement already satisfied: names in /opt/conda/lib/python3.6/site-packages\n",
      "\u001b[33mYou are using pip version 9.0.1, however version 9.0.3 is available.\n",
      "You should consider upgrading via the 'pip install --upgrade pip' command.\u001b[0m\n",
      "Collecting RandomWords\n",
      "  Downloading RandomWords-0.2.1.tar.gz (46kB)\n",
      "\u001b[K    100% |████████████████████████████████| 51kB 733kB/s ta 0:00:011\n",
      "\u001b[?25hBuilding wheels for collected packages: RandomWords\n",
      "  Running setup.py bdist_wheel for RandomWords ... \u001b[?25ldone\n",
      "\u001b[?25h  Stored in directory: /home/jovyan/.cache/pip/wheels/0b/15/80/e91c07dde49e787cc1d00ad0bbb90d3368322d4a29c3961043\n",
      "Successfully built RandomWords\n",
      "Installing collected packages: RandomWords\n",
      "Successfully installed RandomWords-0.2.1\n",
      "\u001b[33mYou are using pip version 9.0.1, however version 9.0.3 is available.\n",
      "You should consider upgrading via the 'pip install --upgrade pip' command.\u001b[0m\n"
     ]
    }
   ],
   "source": [
    "!pip install cassandra-driver\n",
    "!pip install names\n",
    "!pip install RandomWords"
   ]
  },
  {
   "cell_type": "code",
   "execution_count": 31,
   "metadata": {},
   "outputs": [],
   "source": [
    "from cassandra.cluster import Cluster\n",
    "import uuid\n",
    "import names\n",
    "from random_words import RandomWords\n",
    "import random\n",
    "import string"
   ]
  },
  {
   "cell_type": "markdown",
   "metadata": {},
   "source": [
    "Connect to the cluster. The cluster should be run using Docker with the following:\n",
    "```\n",
    "docker run -p 9042:9042 -p 9160:9160 --name cassandra -d cassandra:latest\n",
    "```"
   ]
  },
  {
   "cell_type": "code",
   "execution_count": 6,
   "metadata": {},
   "outputs": [],
   "source": [
    "# cluster = Cluster(['127.0.0.1'])\n",
    "cluster = Cluster(['cassandra-node'])\n",
    "session = cluster.connect()"
   ]
  },
  {
   "cell_type": "markdown",
   "metadata": {},
   "source": [
    "Generate the `killrvideo` keyspace"
   ]
  },
  {
   "cell_type": "code",
   "execution_count": 10,
   "metadata": {},
   "outputs": [
    {
     "data": {
      "text/plain": [
       "<cassandra.cluster.ResultSet at 0x7f2f24ff6898>"
      ]
     },
     "execution_count": 10,
     "metadata": {},
     "output_type": "execute_result"
    }
   ],
   "source": [
    "session.execute(\n",
    "    \"\"\"\n",
    "    CREATE KEYSPACE killrvideo WITH REPLICATION = {\n",
    "        'class': 'SimpleStrategy',\n",
    "        'replication_factor': 1\n",
    "    };\n",
    "    \"\"\"\n",
    ")"
   ]
  },
  {
   "cell_type": "markdown",
   "metadata": {},
   "source": [
    "Set keyspace to `killrvideo` keyspace"
   ]
  },
  {
   "cell_type": "code",
   "execution_count": 11,
   "metadata": {},
   "outputs": [],
   "source": [
    "session.set_keyspace('killrvideo')"
   ]
  },
  {
   "cell_type": "markdown",
   "metadata": {},
   "source": [
    "Generate tables"
   ]
  },
  {
   "cell_type": "code",
   "execution_count": 20,
   "metadata": {},
   "outputs": [
    {
     "data": {
      "text/plain": [
       "<cassandra.cluster.ResultSet at 0x105452e10>"
      ]
     },
     "execution_count": 20,
     "metadata": {},
     "output_type": "execute_result"
    }
   ],
   "source": [
    "session.execute(\n",
    "    \"\"\"\n",
    "    CREATE TABLE users (\n",
    "        user_id UUID,\n",
    "        first_name TEXT,\n",
    "        last_name TEXT,\n",
    "        PRIMARY KEY (user_id)\n",
    "        );\n",
    "    \"\"\"\n",
    ")"
   ]
  },
  {
   "cell_type": "code",
   "execution_count": 13,
   "metadata": {},
   "outputs": [
    {
     "data": {
      "text/plain": [
       "<cassandra.cluster.ResultSet at 0x7f2f25008780>"
      ]
     },
     "execution_count": 13,
     "metadata": {},
     "output_type": "execute_result"
    }
   ],
   "source": [
    "session.execute(\n",
    "    \"\"\"\n",
    "    CREATE TABLE movies_by_actor (\n",
    "        actor TEXT,\n",
    "        release_year INT,\n",
    "        movie_id UUID,\n",
    "        title TEXT,\n",
    "        genres set<TEXT>,\n",
    "        rating FLOAT,\n",
    "        PRIMARY KEY ((actor), release_year, movie_id)\n",
    "        ) WITH CLUSTERING ORDER BY (release_year DESC, movie_id ASC);\n",
    "    \"\"\"\n",
    ")"
   ]
  },
  {
   "cell_type": "markdown",
   "metadata": {},
   "source": [
    "Add some data to our table"
   ]
  },
  {
   "cell_type": "code",
   "execution_count": 49,
   "metadata": {},
   "outputs": [],
   "source": [
    "def gen_actor():\n",
    "    rw = RandomWords()\n",
    "    letter = random.choice('qwertyuiopasdfghjklzcvbnm')\n",
    "    genres = ['Action','Adventure','Comedy','Crime','Drama','Fantasy','Historical','Horror','Mystery','Romance','SciFi']\n",
    "    num_genres = random.randint(1,3)\n",
    "    \n",
    "    actor = names.get_full_name()\n",
    "    release_year = random.randint(1970,2018)\n",
    "    movie_id = uuid.uuid1()\n",
    "    title = ' '.join(rw.random_words(letter=letter, count=3)).title()\n",
    "    genres = set(random.sample(genres, num_genres))\n",
    "    rating = random.randint(1,5)\n",
    "    \n",
    "    return (actor, release_year, movie_id, title, genres, rating)    "
   ]
  },
  {
   "cell_type": "code",
   "execution_count": 50,
   "metadata": {},
   "outputs": [],
   "source": [
    "for i in range(1000):\n",
    "    actor = gen_actor()\n",
    "    \n",
    "    session.execute(\n",
    "        \"\"\"\n",
    "        INSERT INTO movies_by_actor (actor, release_year, movie_id, title, genres, rating)\n",
    "        VALUES (%s, %s, %s, %s, %s, %s)\n",
    "        \"\"\",\n",
    "        actor\n",
    "    )    "
   ]
  },
  {
   "cell_type": "code",
   "execution_count": 71,
   "metadata": {},
   "outputs": [
    {
     "data": {
      "text/plain": [
       "<cassandra.cluster.ResultSet at 0x10c70d128>"
      ]
     },
     "execution_count": 71,
     "metadata": {},
     "output_type": "execute_result"
    }
   ],
   "source": [
    "session.execute(\n",
    "    \"\"\"\n",
    "    INSERT INTO users (user_id, first_name, last_name)\n",
    "    VALUES (%s, %s, %s)\n",
    "    \"\"\",\n",
    "    (uuid.uuid1(), \"Bilbo\", \"Baggins\")\n",
    ")"
   ]
  },
  {
   "cell_type": "markdown",
   "metadata": {},
   "source": [
    "We can query our keyspace to demonstrate that the data entered the DB:"
   ]
  },
  {
   "cell_type": "code",
   "execution_count": 51,
   "metadata": {},
   "outputs": [
    {
     "name": "stdout",
     "output_type": "stream",
     "text": [
      "Row(actor='Steven Vasquez', release_year=1998, movie_id=UUID('54cf878e-2e17-11e8-a7c7-e97a3c3d48a2'), genres=SortedSet(['Drama']), rating=1.0, title='Quarts Qualifiers Quota')\n",
      "Row(actor='Julie Surber', release_year=2003, movie_id=UUID('535b244e-2e17-11e8-a7c7-e97a3c3d48a2'), genres=SortedSet(['Romance']), rating=5.0, title='Mules Models Mosses')\n",
      "Row(actor='Lyndon Johnson', release_year=2001, movie_id=UUID('561fbafa-2e17-11e8-a7c7-e97a3c3d48a2'), genres=SortedSet(['SciFi']), rating=1.0, title='Losses Lifeboat Latitude')\n",
      "Row(actor='Michael Brown', release_year=1997, movie_id=UUID('540d1f8c-2e17-11e8-a7c7-e97a3c3d48a2'), genres=SortedSet(['Adventure']), rating=5.0, title='Recruits Rebound Rams')\n",
      "Row(actor='David Limon', release_year=1998, movie_id=UUID('5595fcac-2e17-11e8-a7c7-e97a3c3d48a2'), genres=SortedSet(['Fantasy', 'Horror']), rating=4.0, title='Quarterdecks Quart Quiet')\n",
      "Row(actor='Katherine Hickman', release_year=2000, movie_id=UUID('56b461a0-2e17-11e8-a7c7-e97a3c3d48a2'), genres=SortedSet(['Drama', 'Mystery', 'SciFi']), rating=1.0, title='Age Amusement Appropriation')\n",
      "Row(actor='Michael Blanco', release_year=1987, movie_id=UUID('55822f74-2e17-11e8-a7c7-e97a3c3d48a2'), genres=SortedSet(['Adventure', 'Drama', 'Horror']), rating=2.0, title='Magnesium Manner Mud')\n",
      "Row(actor='Mary Henke', release_year=2007, movie_id=UUID('56c88978-2e17-11e8-a7c7-e97a3c3d48a2'), genres=SortedSet(['Action', 'Adventure', 'Historical']), rating=4.0, title='Islands Inventory Issues')\n",
      "Row(actor='Amy Sanderlin', release_year=2012, movie_id=UUID('544770e2-2e17-11e8-a7c7-e97a3c3d48a2'), genres=SortedSet(['Historical', 'Horror']), rating=1.0, title='Mop Memories Milestones')\n",
      "Row(actor='Norman Libel', release_year=2002, movie_id=UUID('5575fe52-2e17-11e8-a7c7-e97a3c3d48a2'), genres=SortedSet(['Adventure']), rating=5.0, title='Users Usages Updates')\n"
     ]
    }
   ],
   "source": [
    "results = session.execute(\n",
    "    \"\"\"\n",
    "    select * from movies_by_actor limit 10\n",
    "    \"\"\"\n",
    ")\n",
    "\n",
    "for row in results:\n",
    "    print(row)"
   ]
  },
  {
   "cell_type": "markdown",
   "metadata": {},
   "source": [
    "We can also delete this record if we so choose:"
   ]
  },
  {
   "cell_type": "code",
   "execution_count": 57,
   "metadata": {},
   "outputs": [
    {
     "data": {
      "text/plain": [
       "<cassandra.cluster.ResultSet at 0x10c70ae10>"
      ]
     },
     "execution_count": 57,
     "metadata": {},
     "output_type": "execute_result"
    }
   ],
   "source": [
    "deleteStatement = \"\"\"\n",
    "    DELETE FROM killrvideo.users\n",
    "    WHERE user_id = {0};\n",
    "\"\"\"\n",
    "\n",
    "session.execute(deleteStatement.format(row.user_id))"
   ]
  },
  {
   "cell_type": "code",
   "execution_count": null,
   "metadata": {
    "collapsed": true
   },
   "outputs": [],
   "source": []
  }
 ],
 "metadata": {
  "kernelspec": {
   "display_name": "Python 3",
   "language": "python",
   "name": "python3"
  },
  "language_info": {
   "codemirror_mode": {
    "name": "ipython",
    "version": 3
   },
   "file_extension": ".py",
   "mimetype": "text/x-python",
   "name": "python",
   "nbconvert_exporter": "python",
   "pygments_lexer": "ipython3",
   "version": "3.6.2"
  }
 },
 "nbformat": 4,
 "nbformat_minor": 1
}
