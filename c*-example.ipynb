{
 "cells": [
  {
   "cell_type": "markdown",
   "metadata": {},
   "source": [
    "# DS 201 C*\n",
    "See DataStax Academy course here: https://academy.datastax.com/resources/ds201-foundations-apache-cassandra"
   ]
  },
  {
   "cell_type": "code",
   "execution_count": null,
   "metadata": {},
   "outputs": [],
   "source": [
    "!pip install cassandra-driver\n",
    "!pip install names\n",
    "!pip install RandomWords"
   ]
  },
  {
   "cell_type": "code",
   "execution_count": null,
   "metadata": {
    "collapsed": true
   },
   "outputs": [],
   "source": [
    "from cassandra.cluster import Cluster\n",
    "import uuid\n",
    "import names\n",
    "from random_words import RandomWords\n",
    "import random\n",
    "import string"
   ]
  },
  {
   "cell_type": "markdown",
   "metadata": {},
   "source": [
    "Connect to the cluster. The cluster should be run using Docker with the following:\n",
    "```\n",
    "docker run -p 9042:9042 -p 9160:9160 --name cassandra -d cassandra:latest\n",
    "```"
   ]
  },
  {
   "cell_type": "code",
   "execution_count": null,
   "metadata": {
    "collapsed": true
   },
   "outputs": [],
   "source": [
    "# cluster = Cluster(['127.0.0.1'])\n",
    "cluster = Cluster(['cassandra-node'])\n",
    "session = cluster.connect()"
   ]
  },
  {
   "cell_type": "markdown",
   "metadata": {},
   "source": [
    "Generate the `killrvideo` keyspace"
   ]
  },
  {
   "cell_type": "code",
   "execution_count": null,
   "metadata": {},
   "outputs": [],
   "source": [
    "session.execute(\n",
    "    \"\"\"\n",
    "    CREATE KEYSPACE killrvideo WITH REPLICATION = {\n",
    "        'class': 'SimpleStrategy',\n",
    "        'replication_factor': 1\n",
    "    };\n",
    "    \"\"\"\n",
    ")"
   ]
  },
  {
   "cell_type": "markdown",
   "metadata": {},
   "source": [
    "Set keyspace to `killrvideo` keyspace"
   ]
  },
  {
   "cell_type": "code",
   "execution_count": null,
   "metadata": {
    "collapsed": true
   },
   "outputs": [],
   "source": [
    "session.set_keyspace('killrvideo')"
   ]
  },
  {
   "cell_type": "markdown",
   "metadata": {},
   "source": [
    "Generate tables"
   ]
  },
  {
   "cell_type": "code",
   "execution_count": null,
   "metadata": {},
   "outputs": [],
   "source": [
    "session.execute(\n",
    "    \"\"\"\n",
    "    CREATE TABLE movies_by_actor (\n",
    "        actor TEXT,\n",
    "        release_year INT,\n",
    "        movie_id UUID,\n",
    "        title TEXT,\n",
    "        genres set<TEXT>,\n",
    "        rating FLOAT,\n",
    "        PRIMARY KEY ((actor), release_year, movie_id)\n",
    "        ) WITH CLUSTERING ORDER BY (release_year DESC, movie_id ASC);\n",
    "    \"\"\"\n",
    ")"
   ]
  },
  {
   "cell_type": "markdown",
   "metadata": {},
   "source": [
    "Add some data to our table"
   ]
  },
  {
   "cell_type": "code",
   "execution_count": null,
   "metadata": {
    "collapsed": true
   },
   "outputs": [],
   "source": [
    "def gen_actor():\n",
    "    rw = RandomWords()\n",
    "    letter = random.choice('qwertyuiopasdfghjklzcvbnm')\n",
    "    genres = ['Action','Adventure','Comedy','Crime','Drama','Fantasy','Historical','Horror','Mystery','Romance','SciFi']\n",
    "    num_genres = random.randint(1,3)\n",
    "    \n",
    "    actor = names.get_full_name()\n",
    "    release_year = random.randint(1970,2018)\n",
    "    movie_id = uuid.uuid1()\n",
    "    title = ' '.join(rw.random_words(letter=letter, count=3)).title()\n",
    "    genres = set(random.sample(genres, num_genres))\n",
    "    rating = random.randint(1,5)\n",
    "    \n",
    "    return (actor, release_year, movie_id, title, genres, rating)    "
   ]
  },
  {
   "cell_type": "code",
   "execution_count": null,
   "metadata": {
    "collapsed": true
   },
   "outputs": [],
   "source": [
    "for i in range(1000):\n",
    "    actor = gen_actor()\n",
    "    \n",
    "    session.execute(\n",
    "        \"\"\"\n",
    "        INSERT INTO movies_by_actor (actor, release_year, movie_id, title, genres, rating)\n",
    "        VALUES (%s, %s, %s, %s, %s, %s)\n",
    "        \"\"\",\n",
    "        actor\n",
    "    )    "
   ]
  },
  {
   "cell_type": "markdown",
   "metadata": {},
   "source": [
    "We can query our keyspace to demonstrate that the data entered the DB:"
   ]
  },
  {
   "cell_type": "code",
   "execution_count": null,
   "metadata": {},
   "outputs": [],
   "source": [
    "results = session.execute(\n",
    "    \"\"\"\n",
    "    select * from movies_by_actor limit 10\n",
    "    \"\"\"\n",
    ")\n",
    "\n",
    "for row in results:\n",
    "    print(row)"
   ]
  }
 ],
 "metadata": {
  "kernelspec": {
   "display_name": "Python 3",
   "language": "python",
   "name": "python3"
  },
  "language_info": {
   "codemirror_mode": {
    "name": "ipython",
    "version": 3
   },
   "file_extension": ".py",
   "mimetype": "text/x-python",
   "name": "python",
   "nbconvert_exporter": "python",
   "pygments_lexer": "ipython3",
   "version": "3.6.2"
  }
 },
 "nbformat": 4,
 "nbformat_minor": 1
}
